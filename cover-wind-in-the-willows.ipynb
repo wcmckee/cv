{
 "cells": [
  {
   "cell_type": "markdown",
   "metadata": {},
   "source": [
    "Dear Jane Saunders,\n",
    "\n",
    "Please find attached my resume for the job Supervisor Out of School Care Programme.\n",
    "My name is Wiliam Mckee, I'm 26 years old and passionate with working with children. \n",
    "Experienced with working with children in a number of areas. \n",
    "Volunteered at Hamilton Community Centre with the after-school program - focusing on IT and art.\n",
    "Worked for Ministry of Education as an Education Support at Whaihanga Early Learning Centre. I also volunteered at Whaihanga before working for the Ministry. \n",
    "I'm an excellent listener and great at working with special needs. \n",
    "In the future I plan on gaining an Early Childhood qualification and continuing my software development. \n",
    "Kind Regards,\n",
    "William Mckee."
   ]
  }
 ],
 "metadata": {
  "kernelspec": {
   "display_name": "Python 2",
   "name": "python2"
  },
  "language_info": {
   "codemirror_mode": {
    "name": "ipython",
    "version": 2
   },
   "file_extension": ".py",
   "mimetype": "text/x-python",
   "name": "python",
   "nbconvert_exporter": "python",
   "pygments_lexer": "ipython2",
   "version": "2.7.9"
  }
 },
 "nbformat": 4,
 "nbformat_minor": 0
}
